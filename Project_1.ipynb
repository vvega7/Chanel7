{
  "nbformat": 4,
  "nbformat_minor": 0,
  "metadata": {
    "colab": {
      "provenance": [],
      "authorship_tag": "ABX9TyPLhyDVkv1C6qbcTojoFK+N",
      "include_colab_link": true
    },
    "kernelspec": {
      "name": "python3",
      "display_name": "Python 3"
    },
    "language_info": {
      "name": "python"
    }
  },
  "cells": [
    {
      "cell_type": "markdown",
      "metadata": {
        "id": "view-in-github",
        "colab_type": "text"
      },
      "source": [
        "<a href=\"https://colab.research.google.com/github/vvega7/Chanel7/blob/main/Project_1.ipynb\" target=\"_parent\"><img src=\"https://colab.research.google.com/assets/colab-badge.svg\" alt=\"Open In Colab\"/></a>"
      ]
    },
    {
      "cell_type": "markdown",
      "source": [
        "\n",
        " \n",
        "1. Project:\n",
        "\n",
        "    1.1. Name and description.\n",
        "     \n",
        "  * **Name:** *Countries with the best quality of life*\n",
        "    \n",
        "  * **Description:** *In the world there are the 5 best countries that offer the best quality of life to their inhabitants.*\n",
        "  \n",
        "   1.2. Period or dates. Frequency. Individuals.\n",
        "    \n",
        "    * **Period:** 2022\n",
        "\n",
        "    * **Frequency:** information with court 2022\n",
        "\n",
        "    * **Individuals** Countries with the best quality index: Switzerland,   Denmark, Netherlands, Finland and Australia.\n",
        "\n",
        "      These five countries are chosen, because they are the best in the ranking in having a good quality of life worldwide. For in all stages of life, these countries treat their citizens well. In addition to this, these countries have enough information to make a report, since they have been positioned in this ranking since previous years. 🌏\n",
        "\n",
        "    1.3. Sources:\n",
        "\n",
        " * [Quality of Life Index by Country 2022](https://www.numbeo.com/quality-of-life/rankings_by_country.jsp?title=2022)\n",
        "\n",
        " * [Switzerland](https://www.usnews.com/news/best-countries/switzerland)      ![image.png](data:image/png;base64,iVBORw0KGgoAAAANSUhEUgAAABoAAAARCAYAAADDjbwNAAAAqUlEQVQ4jWO8qiP/n4EOgIUUxeKFFQx87t5w/qedWxle9ndQ3yIGBgYGVmlZUrUwMDAwMDCRpWswW4Qz6Jh5+TDEGNnYMfjY1P39/AlTL65Ux2PvzCA3ZS5hp6KBRznJDF8O7sUQH35xRDeLcMYRtkgWzSpkEIpJhPPfLZnP8HpaP4Y6bIkBZ6rDpvj/r58YfGzqsIHhF0ckl3W/nz4myyKciYHagG5BBwA/jy+HHJS1fQAAAABJRU5ErkJggg==)\n",
        "\n",
        " * [Denmark](https://www.usnews.com/news/best-countries/denmark)          ![image.png](data:image/png;base64,iVBORw0KGgoAAAANSUhEUgAAABwAAAARCAYAAADOk8xKAAAARklEQVRIiWM8xmv4n4EAUJnewCAa7cfAwMDAcCezgeH10k2EtOAETGTrHLVwxFrI+P//f4KplJpgBATpaMYftXDUwgG3EADxCRQiZm9gSwAAAABJRU5ErkJggg==)\n",
        " \n",
        " * [Netherlands](https://www.usnews.com/news/best-countries/netherlands) ![image.png](data:image/png;base64,iVBORw0KGgoAAAANSUhEUgAAAB0AAAATCAYAAABsmQZ/AAAAQUlEQVRIiWN88vz1/1Nmdgz0BEx0tW3U0mFrKeOT56//S0uI0NXSkRO8o5YOP0tZGBgYGJQ9euhq6cgJ3lFLaQoA21EKDePghxAAAAAASUVORK5CYII=)\n",
        " \n",
        " * [Finland](https://hwww.usnews.com/news/best-countries/finland)               ![image.png](data:image/png;base64,iVBORw0KGgoAAAANSUhEUgAAABkAAAAQCAYAAADj5tSrAAAAb0lEQVQ4jWP8////fwYs4PO3Xwz8jh0Y4nISfAwPNhZg04ITMJGkmkwwfCxhWbz9ElaJHz//YBX/+v0XAy49uAAjo1kj1oinJhg+cTJ8LGFctO0i1oj/8fMPQ3r7FgxxYX4Ohr5CD9IsGS1WRqYlAHBBKSF2GNvUAAAAAElFTkSuQmCC)\n",
        "\n",
        " * [Australia](https://www.usnews.com/news/best-countries/australia)   ![image.png](data:image/png;base64,iVBORw0KGgoAAAANSUhEUgAAABkAAAAQCAYAAADj5tSrAAACL0lEQVQ4jaWUT0gUURzHP6OyVBAuzJIWgU8wIiKSMtDYaFuwQ5aHILrIOMyhoqOBgodhERS6mEQFXkZbgogiNBCkYBpFUEpjl6BQYRjZ0hbc3GL7Z9R2sC2NGR3pc/x9f+99Hr/He1JlZXu+tlag77TZspRGGAaJRIofhyqQVZV0TT1lk0/Ypes8mszQ2vqQAo6TwQ/SYl9f3i1wNI3tkQiyorguNKc/cf7qS3+SSUlylWzEUvgUJ8d2++otCQjhGiw7DgBe+Xe53LUuhIyuNxCPj2NZsyuSKf0OAFVVOwiHq8j091PapJAMlCCrKuW3eil695aFF694/rOMXO4bAKOjs8C4hyiEECFgRSJJ0sW8abZwVARwNI10o8bTj0EaYo3Iqkr71zq6us4SuH2D5bk5enL7uf5g1teYChTZdieHmcfRNAarmzjeMramYWLCIRrt5nFFPbKicHlxiHttBxBC9i9Z1s6RGhzmEg209TxzbXKcDJoW59pojoBxnyPpKW4eTPuWFO89cSF2pjeN47xfVc4jRIhkcB93rYU/VcuaIZlM8aH6GMPJLK/ffCYWOw3k/1n/FyHklTvxfSQXbLsTy5pG0+KePf8tEUL2fPmFrMjvRl6s97UYRjPA+hJVrUMIGdvuJBLZ83v+/olGuzeWWNYMptkCgGlewbKmNyUp4CkRQsYwmteMSlHqNvU+ChRLUk3MLchmvzAyMkNp6VaCwW0MDCTo6Bjy/b2v5he+jMxcAv8PawAAAABJRU5ErkJggg==)\n",
        "\n",
        "\n",
        "\n",
        "\n",
        "\n",
        "\n",
        "  \n"
      ],
      "metadata": {
        "id": "BeAE4geJBP_9"
      }
    },
    {
      "cell_type": "code",
      "source": [
        "1.3. Sources:\n"
      ],
      "metadata": {
        "id": "AqCVQYK8gMy2"
      },
      "execution_count": null,
      "outputs": []
    },
    {
      "cell_type": "markdown",
      "source": [],
      "metadata": {
        "id": "bPQTkkGiVAje"
      }
    }
  ]
}