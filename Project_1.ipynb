{
  "nbformat": 4,
  "nbformat_minor": 0,
  "metadata": {
    "colab": {
      "provenance": [],
      "authorship_tag": "ABX9TyNqyvs/OICqshSuMeedKIBa",
      "include_colab_link": true
    },
    "kernelspec": {
      "name": "python3",
      "display_name": "Python 3"
    },
    "language_info": {
      "name": "python"
    }
  },
  "cells": [
    {
      "cell_type": "markdown",
      "metadata": {
        "id": "view-in-github",
        "colab_type": "text"
      },
      "source": [
        "<a href=\"https://colab.research.google.com/github/vvega7/Chanel7/blob/main/Project_1.ipynb\" target=\"_parent\"><img src=\"https://colab.research.google.com/assets/colab-badge.svg\" alt=\"Open In Colab\"/></a>"
      ]
    },
    {
      "cell_type": "markdown",
      "source": [
        "\n",
        " \n",
        " 1. Variable:\n",
        "\n",
        "    1.1. Name and description.\n",
        "     \n",
        "  * **Name:** Countries with the best quality of life*\n",
        "    \n",
        "  * **Description:** \n",
        "  \n",
        "  \n",
        "\n",
        "\n",
        "\n",
        "   Countries with the best quality of life\n"
      ],
      "metadata": {
        "id": "BeAE4geJBP_9"
      }
    }
  ]
}