{
  "nbformat": 4,
  "nbformat_minor": 0,
  "metadata": {
    "colab": {
      "provenance": [],
      "authorship_tag": "ABX9TyOglAI1+4ixZ8zdSi06fYrX",
      "include_colab_link": true
    },
    "kernelspec": {
      "name": "python3",
      "display_name": "Python 3"
    },
    "language_info": {
      "name": "python"
    }
  },
  "cells": [
    {
      "cell_type": "markdown",
      "metadata": {
        "id": "view-in-github",
        "colab_type": "text"
      },
      "source": [
        "<a href=\"https://colab.research.google.com/github/vvega7/Chanel7/blob/main/01_Python_Basics.ipynb\" target=\"_parent\"><img src=\"https://colab.research.google.com/assets/colab-badge.svg\" alt=\"Open In Colab\"/></a>"
      ]
    },
    {
      "cell_type": "code",
      "execution_count": null,
      "metadata": {
        "id": "AEwNyidfb_vZ"
      },
      "outputs": [],
      "source": []
    },
    {
      "cell_type": "markdown",
      "source": [
        "#Introduction\n",
        "\n",
        "Here, in this file, we are going to *code*\n",
        "\n",
        "We are going to understand Python, how it work, and some tricks."
      ],
      "metadata": {
        "id": "xAKyMQmpcljo"
      }
    },
    {
      "cell_type": "markdown",
      "source": [],
      "metadata": {
        "id": "HXFct8DkkoF4"
      }
    },
    {
      "cell_type": "markdown",
      "source": [
        "# 1. What is Python?\n",
        "\n",
        "It was created in 1991 and it is a **general-purpose programing language**\n",
        "\n",
        "This mean s that Payton is used for:\n",
        "\n",
        "* Data analysis\n",
        "* Atomating task\n",
        "* Machine Learning\n",
        "* Data visualization\n",
        "* Optimazation\n",
        "* Web development\n",
        "* User Interfaces creation\n",
        "* Create another sofware\n",
        "* Create video games\n",
        "\n",
        "The world runs on Python, C++, Java and HTML / CSS, and R?"
      ],
      "metadata": {
        "id": "FWvUMwKBdGLh"
      }
    },
    {
      "cell_type": "markdown",
      "source": [
        "#2. Why Python?\n",
        "\n",
        "The main reasons:\n",
        "\n",
        "* It is simple.\n",
        "* Focus. \n",
        "* Easy to learn.\n",
        "* Open-source: it is free.\n",
        "* Cross-platform.\n",
        "* Expensive libraries.\n"
      ],
      "metadata": {
        "id": "wCsGthm7e2LX"
      }
    },
    {
      "cell_type": "markdown",
      "source": [
        "#3. Getting started"
      ],
      "metadata": {
        "id": "98rNG-jWgc7J"
      }
    },
    {
      "cell_type": "markdown",
      "source": [
        "## 3.1 Phyton as a Calcualator"
      ],
      "metadata": {
        "id": "PE-OZ_i3gvIm"
      }
    },
    {
      "cell_type": "code",
      "source": [
        "# Addition\n",
        "2+ 2"
      ],
      "metadata": {
        "colab": {
          "base_uri": "https://localhost:8080/"
        },
        "id": "tBymyIvChTnM",
        "outputId": "03644b8c-61d3-477d-c154-3ea725d5ddbb"
      },
      "execution_count": null,
      "outputs": [
        {
          "output_type": "execute_result",
          "data": {
            "text/plain": [
              "4"
            ]
          },
          "metadata": {},
          "execution_count": 1
        }
      ]
    },
    {
      "cell_type": "code",
      "source": [
        "# Subtraction\n",
        "23 - 7"
      ],
      "metadata": {
        "colab": {
          "base_uri": "https://localhost:8080/"
        },
        "id": "N83yc-LLiVre",
        "outputId": "8e3e17f1-2590-4a92-ff77-efb8f70bfa50"
      },
      "execution_count": null,
      "outputs": [
        {
          "output_type": "execute_result",
          "data": {
            "text/plain": [
              "16"
            ]
          },
          "metadata": {},
          "execution_count": 2
        }
      ]
    },
    {
      "cell_type": "code",
      "source": [
        "# Multiplication\n",
        "13* 7"
      ],
      "metadata": {
        "colab": {
          "base_uri": "https://localhost:8080/"
        },
        "id": "uCoB_CvsiqWc",
        "outputId": "29a389a9-a7a0-456a-dd4e-ff0228d31e58"
      },
      "execution_count": null,
      "outputs": [
        {
          "output_type": "execute_result",
          "data": {
            "text/plain": [
              "91"
            ]
          },
          "metadata": {},
          "execution_count": 3
        }
      ]
    },
    {
      "cell_type": "code",
      "source": [
        "# Division\n",
        "10 / 3"
      ],
      "metadata": {
        "colab": {
          "base_uri": "https://localhost:8080/"
        },
        "id": "brN0clB7ixvE",
        "outputId": "288799ad-e138-45ea-f6ce-6c7e4f6ff32e"
      },
      "execution_count": null,
      "outputs": [
        {
          "output_type": "execute_result",
          "data": {
            "text/plain": [
              "3.3333333333333335"
            ]
          },
          "metadata": {},
          "execution_count": 4
        }
      ]
    },
    {
      "cell_type": "code",
      "source": [
        "# Integer Division\n",
        "10 // 3"
      ],
      "metadata": {
        "colab": {
          "base_uri": "https://localhost:8080/"
        },
        "id": "YIZcGohQjESr",
        "outputId": "61e66d1f-2e8a-463c-cd3c-8c6cb8aa6c58"
      },
      "execution_count": null,
      "outputs": [
        {
          "output_type": "execute_result",
          "data": {
            "text/plain": [
              "3"
            ]
          },
          "metadata": {},
          "execution_count": 5
        }
      ]
    },
    {
      "cell_type": "markdown",
      "source": [
        "3.3 Integres and Real"
      ],
      "metadata": {
        "id": "34u_R9Hmlg3M"
      }
    },
    {
      "cell_type": "code",
      "source": [
        "# Examples\n",
        "# Find out if the next expressions are int or floats\n",
        "2+ 3.0\n",
        "2.5*5\n",
        "4,0/2"
      ],
      "metadata": {
        "colab": {
          "base_uri": "https://localhost:8080/"
        },
        "id": "UdMpPVFXoirE",
        "outputId": "3912c384-5961-414f-ccb1-eeb701236993"
      },
      "execution_count": 4,
      "outputs": [
        {
          "output_type": "execute_result",
          "data": {
            "text/plain": [
              "(4, 0.0)"
            ]
          },
          "metadata": {},
          "execution_count": 4
        }
      ]
    },
    {
      "cell_type": "markdown",
      "source": [
        "### Scientific notation "
      ],
      "metadata": {
        "id": "OOFanSfUmL0V"
      }
    },
    {
      "cell_type": "code",
      "source": [
        "#Example\n",
        "5e1"
      ],
      "metadata": {
        "colab": {
          "base_uri": "https://localhost:8080/"
        },
        "id": "P_WQgQxSn_Ud",
        "outputId": "95897ee4-27ef-4394-fc54-c4c6d7b84577"
      },
      "execution_count": 1,
      "outputs": [
        {
          "output_type": "execute_result",
          "data": {
            "text/plain": [
              "50.0"
            ]
          },
          "metadata": {},
          "execution_count": 1
        }
      ]
    },
    {
      "cell_type": "code",
      "source": [
        "#Example\n",
        "6e-2"
      ],
      "metadata": {
        "colab": {
          "base_uri": "https://localhost:8080/"
        },
        "id": "bk0PvZEToHKy",
        "outputId": "04ec5514-1ba6-421d-c522-2a69d98c214c"
      },
      "execution_count": 2,
      "outputs": [
        {
          "output_type": "execute_result",
          "data": {
            "text/plain": [
              "0.06"
            ]
          },
          "metadata": {},
          "execution_count": 2
        }
      ]
    },
    {
      "cell_type": "code",
      "source": [
        "type(5e1)"
      ],
      "metadata": {
        "colab": {
          "base_uri": "https://localhost:8080/"
        },
        "id": "r9Dn7BWWoVtQ",
        "outputId": "c5bb00e6-e7a3-4e9f-84d5-f81580b028f2"
      },
      "execution_count": 3,
      "outputs": [
        {
          "output_type": "execute_result",
          "data": {
            "text/plain": [
              "float"
            ]
          },
          "metadata": {},
          "execution_count": 3
        }
      ]
    },
    {
      "cell_type": "code",
      "source": [],
      "metadata": {
        "id": "AvE0COgQpFL_"
      },
      "execution_count": null,
      "outputs": []
    },
    {
      "cell_type": "code",
      "source": [
        "Practice \n",
        "#write 1millon in scientifc notation\n",
        "# What is the result of 3e0.2"
      ],
      "metadata": {
        "id": "UKNkSC0JonS9"
      },
      "execution_count": null,
      "outputs": []
    },
    {
      "cell_type": "markdown",
      "source": [],
      "metadata": {
        "id": "Enco5RaKpOPq"
      }
    },
    {
      "cell_type": "code",
      "source": [
        "1e"
      ],
      "metadata": {
        "id": "VM0wPIUKppkv"
      },
      "execution_count": null,
      "outputs": []
    },
    {
      "cell_type": "markdown",
      "source": [
        "### Transformation\n",
        "\n",
        "you can change the type() of a number. or you can force a type () of a number."
      ],
      "metadata": {
        "id": "fsoNkb39qI1h"
      }
    },
    {
      "cell_type": "code",
      "source": [
        "#Example\n",
        "float (6)"
      ],
      "metadata": {
        "colab": {
          "base_uri": "https://localhost:8080/"
        },
        "id": "pTZKnvYSqfqq",
        "outputId": "35946139-7302-4090-c1c1-723ba21164f6"
      },
      "execution_count": 6,
      "outputs": [
        {
          "output_type": "execute_result",
          "data": {
            "text/plain": [
              "6.0"
            ]
          },
          "metadata": {},
          "execution_count": 6
        }
      ]
    },
    {
      "cell_type": "code",
      "source": [
        "#Example\n",
        "int(3.33333)"
      ],
      "metadata": {
        "colab": {
          "base_uri": "https://localhost:8080/"
        },
        "id": "XQVUlKEfqqzQ",
        "outputId": "8bd3def4-07a5-4cce-d269-693c1c96f997"
      },
      "execution_count": 7,
      "outputs": [
        {
          "output_type": "execute_result",
          "data": {
            "text/plain": [
              "3"
            ]
          },
          "metadata": {},
          "execution_count": 7
        }
      ]
    }
  ]
}