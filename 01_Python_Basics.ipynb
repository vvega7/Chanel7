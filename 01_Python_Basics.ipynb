{
  "nbformat": 4,
  "nbformat_minor": 0,
  "metadata": {
    "colab": {
      "provenance": [],
      "authorship_tag": "ABX9TyNHw9Ss1N0S33yVaeus69RE",
      "include_colab_link": true
    },
    "kernelspec": {
      "name": "python3",
      "display_name": "Python 3"
    },
    "language_info": {
      "name": "python"
    }
  },
  "cells": [
    {
      "cell_type": "markdown",
      "metadata": {
        "id": "view-in-github",
        "colab_type": "text"
      },
      "source": [
        "<a href=\"https://colab.research.google.com/github/vvega7/Chanel7/blob/main/01_Python_Basics.ipynb\" target=\"_parent\"><img src=\"https://colab.research.google.com/assets/colab-badge.svg\" alt=\"Open In Colab\"/></a>"
      ]
    },
    {
      "cell_type": "code",
      "execution_count": null,
      "metadata": {
        "id": "AEwNyidfb_vZ"
      },
      "outputs": [],
      "source": []
    },
    {
      "cell_type": "markdown",
      "source": [
        "#Introduction\n",
        "\n",
        "Here, in this file, we are going to *code*\n",
        "\n",
        "We are going to understand Python, how it work, and some tricks."
      ],
      "metadata": {
        "id": "xAKyMQmpcljo"
      }
    },
    {
      "cell_type": "markdown",
      "source": [
        "# 1. What is Python?\n",
        "\n",
        "It was created in 1991 and it is a **general-purpose programing language**\n",
        "\n",
        "This mean s that Payton is used for:\n",
        "\n",
        "* Data analysis\n",
        "* Atomating task\n",
        "* Machine Learning\n",
        "* Data visualization\n",
        "* Optimazation\n",
        "* Web development\n",
        "* User Interfaces creation\n",
        "* Create another sofware\n",
        "* Create video games\n",
        "\n",
        "The world runs on Python, C++, Java and HTML / CSS, and R?"
      ],
      "metadata": {
        "id": "FWvUMwKBdGLh"
      }
    },
    {
      "cell_type": "markdown",
      "source": [
        "#2. Why Python?\n",
        "\n",
        "The main reasons:\n",
        "\n",
        "* It is simple.\n",
        "* Focus. \n",
        "* Easy to learn.\n",
        "* Open-source: it is free.\n",
        "* Cross-platform.\n",
        "* Expensive libraries.\n"
      ],
      "metadata": {
        "id": "wCsGthm7e2LX"
      }
    },
    {
      "cell_type": "markdown",
      "source": [
        "#3. Getting started"
      ],
      "metadata": {
        "id": "98rNG-jWgc7J"
      }
    },
    {
      "cell_type": "markdown",
      "source": [
        "## 3.1 Phyton as a Calcualator"
      ],
      "metadata": {
        "id": "PE-OZ_i3gvIm"
      }
    },
    {
      "cell_type": "code",
      "source": [
        "# Addition\n",
        "2+ 2"
      ],
      "metadata": {
        "colab": {
          "base_uri": "https://localhost:8080/"
        },
        "id": "tBymyIvChTnM",
        "outputId": "03644b8c-61d3-477d-c154-3ea725d5ddbb"
      },
      "execution_count": 1,
      "outputs": [
        {
          "output_type": "execute_result",
          "data": {
            "text/plain": [
              "4"
            ]
          },
          "metadata": {},
          "execution_count": 1
        }
      ]
    },
    {
      "cell_type": "code",
      "source": [
        "# Subtraction\n",
        "23 - 7"
      ],
      "metadata": {
        "colab": {
          "base_uri": "https://localhost:8080/"
        },
        "id": "N83yc-LLiVre",
        "outputId": "8e3e17f1-2590-4a92-ff77-efb8f70bfa50"
      },
      "execution_count": 2,
      "outputs": [
        {
          "output_type": "execute_result",
          "data": {
            "text/plain": [
              "16"
            ]
          },
          "metadata": {},
          "execution_count": 2
        }
      ]
    },
    {
      "cell_type": "code",
      "source": [
        "# Multiplication\n",
        "13* 7"
      ],
      "metadata": {
        "colab": {
          "base_uri": "https://localhost:8080/"
        },
        "id": "uCoB_CvsiqWc",
        "outputId": "29a389a9-a7a0-456a-dd4e-ff0228d31e58"
      },
      "execution_count": 3,
      "outputs": [
        {
          "output_type": "execute_result",
          "data": {
            "text/plain": [
              "91"
            ]
          },
          "metadata": {},
          "execution_count": 3
        }
      ]
    },
    {
      "cell_type": "code",
      "source": [
        "# Division\n",
        "10 / 3"
      ],
      "metadata": {
        "colab": {
          "base_uri": "https://localhost:8080/"
        },
        "id": "brN0clB7ixvE",
        "outputId": "288799ad-e138-45ea-f6ce-6c7e4f6ff32e"
      },
      "execution_count": 4,
      "outputs": [
        {
          "output_type": "execute_result",
          "data": {
            "text/plain": [
              "3.3333333333333335"
            ]
          },
          "metadata": {},
          "execution_count": 4
        }
      ]
    },
    {
      "cell_type": "code",
      "source": [
        "# Integer Division\n",
        "10 // 3"
      ],
      "metadata": {
        "colab": {
          "base_uri": "https://localhost:8080/"
        },
        "id": "YIZcGohQjESr",
        "outputId": "61e66d1f-2e8a-463c-cd3c-8c6cb8aa6c58"
      },
      "execution_count": 5,
      "outputs": [
        {
          "output_type": "execute_result",
          "data": {
            "text/plain": [
              "3"
            ]
          },
          "metadata": {},
          "execution_count": 5
        }
      ]
    }
  ]
}