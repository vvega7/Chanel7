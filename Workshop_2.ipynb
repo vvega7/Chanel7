{
  "nbformat": 4,
  "nbformat_minor": 0,
  "metadata": {
    "colab": {
      "provenance": [],
      "include_colab_link": true
    },
    "kernelspec": {
      "name": "python3",
      "display_name": "Python 3"
    },
    "language_info": {
      "name": "python"
    }
  },
  "cells": [
    {
      "cell_type": "markdown",
      "metadata": {
        "id": "view-in-github",
        "colab_type": "text"
      },
      "source": [
        "<a href=\"https://colab.research.google.com/github/vvega7/Chanel7/blob/main/Workshop_2.ipynb\" target=\"_parent\"><img src=\"https://colab.research.google.com/assets/colab-badge.svg\" alt=\"Open In Colab\"/></a>"
      ]
    },
    {
      "cell_type": "markdown",
      "source": [
        "<h1 align = \"center\">\n",
        "<strong> Universidad de La Salle </strong>\n",
        "</h1>\n",
        "\n",
        "<h1 align = \"center\">\n",
        "<strong> Finance and International Commerce Program </strong>\n",
        "</h1>\n",
        "\n",
        "<h1 align = \"center\">\n",
        "<strong> Data Visualization - Workshop 2 </strong>\n",
        "</h1>\n"
      ],
      "metadata": {
        "id": "BJolccUZSw9G"
      }
    },
    {
      "cell_type": "markdown",
      "source": [
        "# **Instructions**\n",
        "\n",
        "1. Please read carefully the document. Ask all the questions you may have.\n",
        "2. Save this file in your Google Drive.\n",
        "3. DO NOT alter any cell unless it specifically ask you to do it.\n",
        "4. You will have **two hours** (until 11am) maximum to finish and deliver this workshop.\n",
        "5. You can use any help you want: your notes, your codes, internet, classmates.\n",
        "6. Nevertheless, the workshop must be presented individually.\n",
        "7. Once you have finish, save a copy in your GitHub class repository.\n",
        "8. The deliver process is as follows:\n",
        "    \n",
        "    8.1. Via email you will send the link to the GitHub location.\n",
        "    \n",
        "    8.2. In the same mail, just for safety, you will attach a copy of your `.ipynb` file.\n",
        "    \n",
        "    8.3. The email must have the subject: \"W2 DV\".   "
      ],
      "metadata": {
        "id": "pLRc5RAyWsre"
      }
    },
    {
      "cell_type": "markdown",
      "source": [
        "# **To keep in mind**\n",
        "\n",
        "* The excercises propouse are intended to **push** you a little futher in your Pyton skills.\n",
        "* This means that there are going to be exercises above the level seen in class.\n",
        "* The idea is to incentive your creative thinking and solving problem skills.\n",
        "* As always there several ways to do the excersice. But in this case, I ask you to use only the tools we learned.\n",
        "* I ask you to trust me. Give your best effort. Grades do not matter here. "
      ],
      "metadata": {
        "id": "4QKdNKujZEbk"
      }
    },
    {
      "cell_type": "markdown",
      "source": [
        "# **Exercise**\n",
        "\n",
        "**Roulette!**\n",
        "\n",
        "Let's simulate a casino game.\n",
        "Specifically, a single-zero (french) roulette.\n",
        "\n",
        "This game consists on rolling a ball over a wheel with number pockets.\n",
        "\n",
        "[Game](https://image.shutterstock.com/image-illustration/casino-roulette-wheel-chips-on-600w-1288790665.jpg)\n",
        "\n",
        "There are several ways to bet on this game, you have to code a few."
      ],
      "metadata": {
        "id": "2kRoSKUmaGl9"
      }
    },
    {
      "cell_type": "code",
      "source": [
        "import numpy as np"
      ],
      "metadata": {
        "id": "8lMuVMe0iwhw"
      },
      "execution_count": 1,
      "outputs": []
    },
    {
      "cell_type": "markdown",
      "source": [
        "## Ex 1 - Number Bet \n",
        "\n",
        "You can bet on any number between 0 and 36.\n",
        "You win if the result is the number you bet on.\n",
        "In any other case, you lose.\n",
        "\n",
        "Write the appropiate the code to reflect this process. \n",
        "\n",
        "The result must show the bet made, the result obtained and if you win or lose."
      ],
      "metadata": {
        "id": "PYIRNu3imJ_n"
      }
    },
    {
      "cell_type": "code",
      "execution_count": 6,
      "metadata": {
        "id": "9TaC9734lQMI",
        "colab": {
          "base_uri": "https://localhost:8080/"
        },
        "outputId": "aaa3f641-5db2-42f5-b2a6-b492c9e5e313"
      },
      "outputs": [
        {
          "output_type": "stream",
          "name": "stdout",
          "text": [
            "lose\n",
            "My bet 20\n",
            "Number 18\n"
          ]
        }
      ],
      "source": [
        "# Answ. Ex 1\n",
        "# (write your code below)\n",
        "\n",
        "\n",
        "bet_number = 20 \n",
        "random_number= np.random.randint(0,37) \n",
        "\n",
        "if random_number == bet_number:\n",
        "  print('win')\n",
        "  print('My bet',bet_number)\n",
        "  print('Number',random_number)\n",
        "\n",
        "else:\n",
        "  print('lose')\n",
        "  print('My bet',bet_number)\n",
        "  print('Number',random_number)\n",
        "\n",
        "\n"
      ]
    },
    {
      "cell_type": "markdown",
      "source": [
        "## Ex 2 - Color Bet\n",
        "\n",
        "Each color has an associated color. Zero is neutral.\n",
        "\n",
        "And the rest of the numbers vary between black and red (see the previous image).\n",
        "\n",
        "Write the appropiate code to simulate a random round of Roulette using only the color bet (black or white).\n",
        "\n",
        "The result must show the bet made, the result obtained and if you win or lose.\n",
        "\n",
        "*Tip: first define when you lose and when you win.*"
      ],
      "metadata": {
        "id": "LAdWe8iEaL7B"
      }
    },
    {
      "cell_type": "code",
      "execution_count": 10,
      "metadata": {
        "id": "rw792kISSt3n",
        "colab": {
          "base_uri": "https://localhost:8080/"
        },
        "outputId": "820e170d-43e0-48a2-b9bf-9de50432c5a5"
      },
      "outputs": [
        {
          "output_type": "stream",
          "name": "stdout",
          "text": [
            "your bet color is black\n",
            "Red\n",
            "You lose\n"
          ]
        }
      ],
      "source": [
        "# Answ. Ex 2\n",
        "# (write your code below)\n",
        "\n",
        "cb = \"black\"\n",
        "print(\"your bet color is\" ,cb)\n",
        "c=np.random.rand()\n",
        "if c < 0.49:\n",
        "   print(\"Red\")\n",
        "   a=-1\n",
        "elif 0.49 <c < 0.98:\n",
        "   print(\"Black\")\n",
        "   a=1\n",
        "else:\n",
        "  print(\"Green\")\n",
        "  a=0\n",
        "\n",
        "if cb == 'Black' and a == 1:\n",
        "    print('You win')\n",
        "elif cb == 'Red' and a == -1:\n",
        "      print('You win')\n",
        "else:\n",
        "     print('You lose')\n",
        "\n",
        "\n"
      ]
    },
    {
      "cell_type": "markdown",
      "source": [
        "## Ex 3 - Dozens Bet\n",
        "\n",
        "Given the 3 groups:\n",
        "\n",
        "A -> numbers between 1 and 12.\n",
        "B -> numbers between 13 and 24.\n",
        "C -> numbers between 25 and 36. \n",
        "\n",
        "Write the appropiate code to print the result of betting exclusively with dozens.\n",
        "\n",
        "The result must show the bet made, the result obtained and if you win or lose.\n",
        "\n",
        "*Tip: Note that zero is not in the groups but it is a possible result.*"
      ],
      "metadata": {
        "id": "YFsGiwcNfgzP"
      }
    },
    {
      "cell_type": "code",
      "source": [
        "# Answ. Ex 3 \n",
        "# (write your code below)\n",
        "\n",
        "db = \"A\"\n",
        "dc =np.random.randint(low = 0, high = 37)\n",
        "if 1 < dc < 12:\n",
        "    print(\"A\")\n",
        "    b=-1\n",
        "elif  13 < dc < 24:\n",
        "    print(\"B\")\n",
        "    b=1\n",
        "else:\n",
        "    print(\"C\")\n",
        "    b=0\n",
        "\n",
        "if db == 'A' and b == 1:\n",
        "  print('You win')\n",
        "elif db == 'B' and b == -1:\n",
        "  print('You win')\n",
        "else:\n",
        "  print('You lose')"
      ],
      "metadata": {
        "id": "Dwdsh30Ti3vl",
        "colab": {
          "base_uri": "https://localhost:8080/"
        },
        "outputId": "fd4d85b8-6b0a-4bab-ec05-1d28198e87db"
      },
      "execution_count": 14,
      "outputs": [
        {
          "output_type": "stream",
          "name": "stdout",
          "text": [
            "C\n",
            "You lose\n"
          ]
        }
      ]
    },
    {
      "cell_type": "markdown",
      "source": [
        "## Ex 4 - Putting everything together\n",
        "\n",
        "Write the code that simulate a random game of Roulette where the person can bet on: Number, Color, Dozen or any combination she or he wants.\n",
        "\n",
        "The result must show the bet made, the result obtained and if you win or lose."
      ],
      "metadata": {
        "id": "RSyiV1UPlVcJ"
      }
    },
    {
      "cell_type": "code",
      "source": [
        "# Answ. Ex 4\n",
        "# (write your code below)\n",
        "\n"
      ],
      "metadata": {
        "id": "FQU_vc_5sse0"
      },
      "execution_count": null,
      "outputs": []
    },
    {
      "cell_type": "code",
      "execution_count": 15,
      "metadata": {
        "colab": {
          "base_uri": "https://localhost:8080/"
        },
        "outputId": "5dfd700e-bb2d-43fc-fdd3-30657635e5cf",
        "id": "ClnNDbkqLY3k"
      },
      "outputs": [
        {
          "output_type": "stream",
          "name": "stdout",
          "text": [
            "lose\n",
            "My bet 20\n",
            "Number 12\n",
            "your bet color is black\n",
            "Black\n",
            "You lose\n",
            "B\n",
            "You win\n"
          ]
        }
      ],
      "source": [
        "bet_number = 20 \n",
        "random_number= np.random.randint(0,37) \n",
        "\n",
        "if random_number == bet_number:\n",
        "  print('win')\n",
        "  print('My bet',bet_number)\n",
        "  print('Number',random_number)\n",
        "\n",
        "else:\n",
        "  print('lose')\n",
        "  print('My bet',bet_number)\n",
        "  print('Number',random_number)\n",
        "\n",
        "  cb = \"black\"\n",
        "print(\"your bet color is\" ,cb)\n",
        "c=np.random.rand()\n",
        "if c < 0.49:\n",
        "   print(\"Red\")\n",
        "   a=-1\n",
        "elif 0.49 <c < 0.98:\n",
        "   print(\"Black\")\n",
        "   a=1\n",
        "else:\n",
        "  print(\"Green\")\n",
        "  a=0\n",
        "\n",
        "if cb == 'Black' and a == 1:\n",
        "    print('You win')\n",
        "elif cb == 'Red' and a == -1:\n",
        "      print('You win')\n",
        "else:\n",
        "     print('You lose')\n",
        "\n",
        "\n",
        "db = \"A\"\n",
        "dc =np.random.randint(low = 0, high = 37)\n",
        "if 1 < dc < 12:\n",
        "    print(\"A\")\n",
        "    b=-1\n",
        "elif  13 < dc < 24:\n",
        "    print(\"B\")\n",
        "    b=1\n",
        "else:\n",
        "    print(\"C\")\n",
        "    b=0\n",
        "\n",
        "if db == 'A' and b == 1:\n",
        "  print('You win')\n",
        "elif db == 'B' and b == -1:\n",
        "  print('You win')\n",
        "else:\n",
        "  print('You lose')\n",
        "\n",
        "\n",
        "\n",
        "\n"
      ]
    }
  ]
}