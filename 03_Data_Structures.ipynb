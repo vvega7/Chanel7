{
  "nbformat": 4,
  "nbformat_minor": 0,
  "metadata": {
    "colab": {
      "provenance": [],
      "authorship_tag": "ABX9TyM1cKdQxs4RXQ9PIa62t5Vv",
      "include_colab_link": true
    },
    "kernelspec": {
      "name": "python3",
      "display_name": "Python 3"
    },
    "language_info": {
      "name": "python"
    }
  },
  "cells": [
    {
      "cell_type": "markdown",
      "metadata": {
        "id": "view-in-github",
        "colab_type": "text"
      },
      "source": [
        "<a href=\"https://colab.research.google.com/github/vvega7/Chanel7/blob/main/03_Data_Structures.ipynb\" target=\"_parent\"><img src=\"https://colab.research.google.com/assets/colab-badge.svg\" alt=\"Open In Colab\"/></a>"
      ]
    },
    {
      "cell_type": "markdown",
      "source": [
        "# **1.What is a DS?**\n",
        "\n",
        "A DS is an object that let us store moer than one value.\n",
        "\n",
        "Formally, a DS is **sequence** of values wich can be located with an Index."
      ],
      "metadata": {
        "id": "6211vAVzu_JZ"
      }
    },
    {
      "cell_type": "markdown",
      "source": [
        "**2. Linear Algebra**"
      ],
      "metadata": {
        "id": "9rMW1i_Ru_ER"
      }
    },
    {
      "cell_type": "markdown",
      "source": [
        "## 2.1 what is Numpy?\n",
        "\n",
        "Numpy (Numercial Python) is a collection of funtions and methods."
      ],
      "metadata": {
        "id": "p9h10CAzxJ9T"
      }
    },
    {
      "cell_type": "code",
      "source": [
        "# Istall the library\n",
        "\n",
        "import numpy as np\n"
      ],
      "metadata": {
        "id": "_aZzKXucxt5_"
      },
      "execution_count": 2,
      "outputs": []
    },
    {
      "cell_type": "markdown",
      "source": [
        "## 2.2 Numpy arrays - vectors and matrices"
      ],
      "metadata": {
        "id": "VkRjxSCsyedf"
      }
    },
    {
      "cell_type": "markdown",
      "source": [
        "*Example 1 - Column vector*\n"
      ],
      "metadata": {
        "id": "LcvqJ-G0yrVN"
      }
    },
    {
      "cell_type": "code",
      "source": [
        "a = np.array([[1],[2],[3]])\n",
        "print(a)"
      ],
      "metadata": {
        "colab": {
          "base_uri": "https://localhost:8080/"
        },
        "id": "XTS4H48_zxlu",
        "outputId": "2cbd218a-c9e8-44cc-d796-ba8a8726f05a"
      },
      "execution_count": 3,
      "outputs": [
        {
          "output_type": "stream",
          "name": "stdout",
          "text": [
            "[[1]\n",
            " [2]\n",
            " [3]]\n"
          ]
        }
      ]
    }
  ]
}