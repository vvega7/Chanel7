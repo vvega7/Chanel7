{
  "nbformat": 4,
  "nbformat_minor": 0,
  "metadata": {
    "colab": {
      "provenance": [],
      "toc_visible": true,
      "authorship_tag": "ABX9TyNcda1JUFd9u4MxkC8uKShL",
      "include_colab_link": true
    },
    "kernelspec": {
      "name": "python3",
      "display_name": "Python 3"
    },
    "language_info": {
      "name": "python"
    }
  },
  "cells": [
    {
      "cell_type": "markdown",
      "metadata": {
        "id": "view-in-github",
        "colab_type": "text"
      },
      "source": [
        "<a href=\"https://colab.research.google.com/github/vvega7/Chanel7/blob/main/Class_1.ipynb\" target=\"_parent\"><img src=\"https://colab.research.google.com/assets/colab-badge.svg\" alt=\"Open In Colab\"/></a>"
      ]
    },
    {
      "cell_type": "code",
      "execution_count": null,
      "metadata": {
        "id": "SaLG98lvl1jg"
      },
      "outputs": [],
      "source": []
    },
    {
      "cell_type": "markdown",
      "source": [
        "nnmngml\n",
        "#title\n",
        "##subtitle\n",
        "###subtitule"
      ],
      "metadata": {
        "id": "FNm5RilmcgHy"
      }
    },
    {
      "cell_type": "markdown",
      "source": [
        "##section1"
      ],
      "metadata": {
        "id": "S5885CF9eOhC"
      }
    },
    {
      "cell_type": "markdown",
      "source": [
        "## subsection 1\n"
      ],
      "metadata": {
        "id": "9dHdKv09eqHM"
      }
    },
    {
      "cell_type": "markdown",
      "source": [
        "###Text formating"
      ],
      "metadata": {
        "id": "eZWuagdZe5o4"
      }
    },
    {
      "cell_type": "markdown",
      "source": [
        "## Bold\n",
        "Using ´**´:\n",
        "\n",
        "´**Valentina**´ = **Valentina**"
      ],
      "metadata": {
        "id": "EwvcvjZvfA-m"
      }
    },
    {
      "cell_type": "markdown",
      "source": [
        "## Italic\n",
        "\n",
        "use `*`\n",
        "\n",
        "`Vega*` = *Vega*"
      ],
      "metadata": {
        "id": "1r_6P3UZf9i2"
      }
    },
    {
      "cell_type": "markdown",
      "source": [
        "## Unordered list\n",
        "\n",
        "**List of sports: **\n",
        "* Football\n",
        "* Baskeball\n",
        "* Volleyball"
      ],
      "metadata": {
        "id": "TeCT1NfRjT4P"
      }
    },
    {
      "cell_type": "markdown",
      "source": [
        "## Bold\n",
        "\n",
        "**Valentina**"
      ],
      "metadata": {
        "id": "WfeiRS-ShShl"
      }
    },
    {
      "cell_type": "markdown",
      "source": [
        "**Valentina** *Vega* **Mancera**"
      ],
      "metadata": {
        "id": "AI3iGhB9jDfz"
      }
    },
    {
      "cell_type": "markdown",
      "source": [
        "## Ordered List\n",
        "**The best signgers:**\n",
        "1. Justin Bieber\n",
        "2. Maluma\n",
        "3. Adele"
      ],
      "metadata": {
        "id": "r38BL8KsjwHt"
      }
    },
    {
      "cell_type": "code",
      "source": [],
      "metadata": {
        "id": "gzuY65BziHZX"
      },
      "execution_count": null,
      "outputs": []
    },
    {
      "cell_type": "markdown",
      "source": [
        "## Nested lists\n",
        "\n",
        "**To do list: **\n",
        "\n",
        "1. Training\n",
        "\n",
        "  1.1 wake_up early\n",
        "  \n",
        "  1.2 Run 10 kms\n",
        "\n",
        "2. "
      ],
      "metadata": {
        "id": "4i5uK6PxkaNF"
      }
    },
    {
      "cell_type": "markdown",
      "source": [
        "**List for tomorrow**\n",
        "\n",
        "1. Rutine tomorrow in the morning\n",
        "\n",
        "  1.1 Take a shower\n",
        "  \n",
        "  1.2 Take the boss\n",
        "  \n",
        "  1.3 Go to the university\n",
        "\n",
        "2. Rutine afternoon\n",
        "\n",
        "  2.1 Reviuw english\n",
        "\n",
        "  2.2 Eat lunch\n",
        "\n",
        "  2.3 Go to the park with my dog\n",
        "\n",
        "3. In the night\n",
        "\n",
        "   3.1 I have to go to the stadium in the night\n",
        "    \n"
      ],
      "metadata": {
        "id": "mL6zqIZnluCM"
      }
    },
    {
      "cell_type": "markdown",
      "source": [],
      "metadata": {
        "id": "kGx-tpAKiJJN"
      }
    }
  ]
}