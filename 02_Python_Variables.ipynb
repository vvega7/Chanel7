{
  "nbformat": 4,
  "nbformat_minor": 0,
  "metadata": {
    "colab": {
      "provenance": [],
      "authorship_tag": "ABX9TyPu1CL9mQ0F33wdOCu2pMX+",
      "include_colab_link": true
    },
    "kernelspec": {
      "name": "python3",
      "display_name": "Python 3"
    },
    "language_info": {
      "name": "python"
    }
  },
  "cells": [
    {
      "cell_type": "markdown",
      "metadata": {
        "id": "view-in-github",
        "colab_type": "text"
      },
      "source": [
        "<a href=\"https://colab.research.google.com/github/vvega7/Chanel7/blob/main/02_Python_Variables.ipynb\" target=\"_parent\"><img src=\"https://colab.research.google.com/assets/colab-badge.svg\" alt=\"Open In Colab\"/></a>"
      ]
    },
    {
      "cell_type": "markdown",
      "source": [
        "#  1. WHAT IS A VARIABLE?\n",
        "\n",
        "A variable is a container, in the sence that it stores values."
      ],
      "metadata": {
        "id": "pKx361cJw40K"
      }
    },
    {
      "cell_type": "code",
      "source": [
        "# Example\n",
        "\n",
        "a=  2.57\n",
        "print(a)"
      ],
      "metadata": {
        "colab": {
          "base_uri": "https://localhost:8080/"
        },
        "id": "f96WubHNxXo6",
        "outputId": "46a2d35f-10a0-4006-aef7-54f47a4e5c25"
      },
      "execution_count": null,
      "outputs": [
        {
          "output_type": "stream",
          "name": "stdout",
          "text": [
            "2.57\n"
          ]
        }
      ]
    },
    {
      "cell_type": "code",
      "source": [
        "#Example\n",
        "num= 8.53214794 \n",
        "pi = 0\n",
        "pf = 7\n",
        "print('The approximation of',num, 'with:')\n",
        "print('Decimals','Result')\n",
        "for i in range(pi,pf+1): \n",
        "  print(i, '\\t', round(num,i))"
      ],
      "metadata": {
        "colab": {
          "base_uri": "https://localhost:8080/"
        },
        "id": "lgqXd3Nrx86c",
        "outputId": "c908ee98-956d-4362-c9f5-988ef96b7ad0"
      },
      "execution_count": null,
      "outputs": [
        {
          "output_type": "stream",
          "name": "stdout",
          "text": [
            "The approximation of 8.53214794 with:\n",
            "Decimals Result\n",
            "0 \t 9.0\n",
            "1 \t 8.5\n",
            "2 \t 8.53\n",
            "3 \t 8.532\n",
            "4 \t 8.5321\n",
            "5 \t 8.53215\n",
            "6 \t 8.532148\n",
            "7 \t 8.5321479\n"
          ]
        }
      ]
    },
    {
      "cell_type": "code",
      "source": [
        "#Example\n",
        "\n",
        "x= y = z = 45\n",
        "print(x,y,z)"
      ],
      "metadata": {
        "colab": {
          "base_uri": "https://localhost:8080/"
        },
        "id": "z19Qm2M8oqeY",
        "outputId": "6ece46e2-6989-40e0-a39a-ed98aa64544e"
      },
      "execution_count": 2,
      "outputs": [
        {
          "output_type": "stream",
          "name": "stdout",
          "text": [
            "45 45 45\n"
          ]
        }
      ]
    },
    {
      "cell_type": "code",
      "source": [
        "#Example - replace values\n",
        "z= 17"
      ],
      "metadata": {
        "id": "XH15EcH8pGSk"
      },
      "execution_count": 3,
      "outputs": []
    },
    {
      "cell_type": "markdown",
      "source": [
        "3. Delete and Crear"
      ],
      "metadata": {
        "id": "BCrI-r0Hpeg9"
      }
    },
    {
      "cell_type": "code",
      "source": [
        "#Example - Delete\n",
        "del x, y"
      ],
      "metadata": {
        "id": "9ymo54dKppZw"
      },
      "execution_count": 4,
      "outputs": []
    },
    {
      "cell_type": "code",
      "source": [
        "# Example - clear\n",
        "%reset"
      ],
      "metadata": {
        "colab": {
          "base_uri": "https://localhost:8080/"
        },
        "id": "2VO4ikIRqDw6",
        "outputId": "d54903c0-f3f2-4ce3-9746-cc9545317c1f"
      },
      "execution_count": 6,
      "outputs": [
        {
          "name": "stdout",
          "output_type": "stream",
          "text": [
            "\r\n",
            "Once deleted, variables cannot be recovered. Proceed (y/[n])? y\n"
          ]
        }
      ]
    },
    {
      "cell_type": "markdown",
      "source": [
        "# **4.Naming**"
      ],
      "metadata": {
        "id": "GSQ_CYOxqjDr"
      }
    },
    {
      "cell_type": "markdown",
      "source": [
        "4.1 Conditions and restrictions"
      ],
      "metadata": {
        "id": "qtv8lg-oqloS"
      }
    },
    {
      "cell_type": "code",
      "source": [
        "# Example - always a name of variable must start with a letter\n",
        "age= 18"
      ],
      "metadata": {
        "id": "x-7KHcNrqsPZ"
      },
      "execution_count": 7,
      "outputs": []
    },
    {
      "cell_type": "markdown",
      "source": [
        "##4.2. Best practices\n",
        "\n",
        "* Case sensitive"
      ],
      "metadata": {
        "id": "T3tdewFWrPWj"
      }
    },
    {
      "cell_type": "code",
      "source": [
        "#Example\n",
        "\n",
        "Age = 78\n",
        "AGE = 23\n",
        "\n",
        "#sUG: Always "
      ],
      "metadata": {
        "id": "0nZ2JAGTrcuj"
      },
      "execution_count": null,
      "outputs": []
    },
    {
      "cell_type": "markdown",
      "source": [
        "* Compound names"
      ],
      "metadata": {
        "id": "TjQgURder8g5"
      }
    },
    {
      "cell_type": "code",
      "source": [
        "# Example\n",
        "\n",
        "price_jean = 150000\n"
      ],
      "metadata": {
        "id": "r_oY_oCasFNm"
      },
      "execution_count": null,
      "outputs": []
    },
    {
      "cell_type": "markdown",
      "source": [
        "#**5. Data types**"
      ],
      "metadata": {
        "id": "h6mZRl-CsbDu"
      }
    },
    {
      "cell_type": "markdown",
      "source": [
        "5.1 integers"
      ],
      "metadata": {
        "id": "5CklxoVwslZf"
      }
    },
    {
      "cell_type": "markdown",
      "source": [
        "5.2. float"
      ],
      "metadata": {
        "id": "mQq0f-rTsvAP"
      }
    },
    {
      "cell_type": "markdown",
      "source": [
        "**Parenthesis: A trick**"
      ],
      "metadata": {
        "id": "S1tEBsaks0YX"
      }
    },
    {
      "cell_type": "code",
      "source": [
        "# Example - set up\n",
        "w = 0"
      ],
      "metadata": {
        "id": "YokVEaqps-Lh"
      },
      "execution_count": 8,
      "outputs": []
    },
    {
      "cell_type": "code",
      "source": [
        "# Example\n",
        "w +=  -2\n",
        "print(w)"
      ],
      "metadata": {
        "colab": {
          "base_uri": "https://localhost:8080/"
        },
        "id": "FAsOvfWDtHnD",
        "outputId": "82397e3f-bae7-4c4a-d046-a7171b32b831"
      },
      "execution_count": 12,
      "outputs": [
        {
          "output_type": "stream",
          "name": "stdout",
          "text": [
            "0\n"
          ]
        }
      ]
    },
    {
      "cell_type": "markdown",
      "source": [
        "5.3 Text"
      ],
      "metadata": {
        "id": "6mq57uHRtp6G"
      }
    },
    {
      "cell_type": "code",
      "source": [
        "# Example\n",
        "name = 'Universidad de la salle'\n",
        "print(name)"
      ],
      "metadata": {
        "colab": {
          "base_uri": "https://localhost:8080/"
        },
        "id": "-9ZJ7008tYGz",
        "outputId": "1dc19780-2423-4614-fef7-e22ab6830fe9"
      },
      "execution_count": 14,
      "outputs": [
        {
          "output_type": "stream",
          "name": "stdout",
          "text": [
            "Universidad de la salle\n"
          ]
        }
      ]
    },
    {
      "cell_type": "code",
      "source": [
        "name[-1]"
      ],
      "metadata": {
        "colab": {
          "base_uri": "https://localhost:8080/",
          "height": 35
        },
        "id": "nShwOjQSt13K",
        "outputId": "2cf1e2e3-e14c-4aaa-f478-54cb64ad70f7"
      },
      "execution_count": 17,
      "outputs": [
        {
          "output_type": "execute_result",
          "data": {
            "text/plain": [
              "'e'"
            ],
            "application/vnd.google.colaboratory.intrinsic+json": {
              "type": "string"
            }
          },
          "metadata": {},
          "execution_count": 17
        }
      ]
    },
    {
      "cell_type": "code",
      "source": [
        "name[0:11]"
      ],
      "metadata": {
        "colab": {
          "base_uri": "https://localhost:8080/",
          "height": 35
        },
        "id": "e65tSpRZuoSG",
        "outputId": "694e2e54-7728-4cf7-fc74-d37639152f44"
      },
      "execution_count": 18,
      "outputs": [
        {
          "output_type": "execute_result",
          "data": {
            "text/plain": [
              "'Universidad'"
            ],
            "application/vnd.google.colaboratory.intrinsic+json": {
              "type": "string"
            }
          },
          "metadata": {},
          "execution_count": 18
        }
      ]
    },
    {
      "cell_type": "code",
      "source": [
        "name.split()[0]"
      ],
      "metadata": {
        "colab": {
          "base_uri": "https://localhost:8080/",
          "height": 35
        },
        "id": "1e2xzTeZuyrC",
        "outputId": "9c130713-42f1-493a-fffb-f3966c0605db"
      },
      "execution_count": 20,
      "outputs": [
        {
          "output_type": "execute_result",
          "data": {
            "text/plain": [
              "'Universidad'"
            ],
            "application/vnd.google.colaboratory.intrinsic+json": {
              "type": "string"
            }
          },
          "metadata": {},
          "execution_count": 20
        }
      ]
    },
    {
      "cell_type": "code",
      "source": [],
      "metadata": {
        "id": "6RstmGPsvNU1"
      },
      "execution_count": null,
      "outputs": []
    }
  ]
}