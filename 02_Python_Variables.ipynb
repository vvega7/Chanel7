{
  "nbformat": 4,
  "nbformat_minor": 0,
  "metadata": {
    "colab": {
      "provenance": [],
      "authorship_tag": "ABX9TyP6yGS8PQu1heAhl7GJDoF3",
      "include_colab_link": true
    },
    "kernelspec": {
      "name": "python3",
      "display_name": "Python 3"
    },
    "language_info": {
      "name": "python"
    }
  },
  "cells": [
    {
      "cell_type": "markdown",
      "metadata": {
        "id": "view-in-github",
        "colab_type": "text"
      },
      "source": [
        "<a href=\"https://colab.research.google.com/github/vvega7/Chanel7/blob/main/02_Python_Variables.ipynb\" target=\"_parent\"><img src=\"https://colab.research.google.com/assets/colab-badge.svg\" alt=\"Open In Colab\"/></a>"
      ]
    },
    {
      "cell_type": "markdown",
      "source": [
        "#  1. WHAT IS A VARIABLE?\n",
        "\n",
        "A variable is a container, in the sence that it stores values."
      ],
      "metadata": {
        "id": "pKx361cJw40K"
      }
    },
    {
      "cell_type": "code",
      "source": [
        "# Example\n",
        "\n",
        "a=  2.57\n",
        "print(a)"
      ],
      "metadata": {
        "colab": {
          "base_uri": "https://localhost:8080/"
        },
        "id": "f96WubHNxXo6",
        "outputId": "46a2d35f-10a0-4006-aef7-54f47a4e5c25"
      },
      "execution_count": 1,
      "outputs": [
        {
          "output_type": "stream",
          "name": "stdout",
          "text": [
            "2.57\n"
          ]
        }
      ]
    },
    {
      "cell_type": "code",
      "source": [
        "#Example\n",
        "num= 8.53214794 \n",
        "pi = 0\n",
        "pf = 7\n",
        "print('The approximation of',num, 'with:')\n",
        "print('Decimals','Result')\n",
        "for i in range(pi,pf+1): \n",
        "  print(i, '\\t', round(num,i))"
      ],
      "metadata": {
        "colab": {
          "base_uri": "https://localhost:8080/"
        },
        "id": "lgqXd3Nrx86c",
        "outputId": "c908ee98-956d-4362-c9f5-988ef96b7ad0"
      },
      "execution_count": 3,
      "outputs": [
        {
          "output_type": "stream",
          "name": "stdout",
          "text": [
            "The approximation of 8.53214794 with:\n",
            "Decimals Result\n",
            "0 \t 9.0\n",
            "1 \t 8.5\n",
            "2 \t 8.53\n",
            "3 \t 8.532\n",
            "4 \t 8.5321\n",
            "5 \t 8.53215\n",
            "6 \t 8.532148\n",
            "7 \t 8.5321479\n"
          ]
        }
      ]
    }
  ]
}